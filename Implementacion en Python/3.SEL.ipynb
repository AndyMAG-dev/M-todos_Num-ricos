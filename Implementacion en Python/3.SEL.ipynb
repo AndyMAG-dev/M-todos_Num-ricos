{
 "cells": [
  {
   "cell_type": "markdown",
   "metadata": {},
   "source": [
    "\n",
    "### Comandos Básicos de NumPy\n",
    "\n",
    " Creación de Arrays\n",
    "\n",
    "- ``np.array([lista])``: Crea un array a partir de una lista o lista de listas.\n",
    "- ``np.zeros((filas, columnas))``: Crea una matriz de ceros.\n",
    "- ``np.ones((filas, columnas))``: Crea una matriz de unos.\n",
    "- ``np.eye(N)``: Crea una matriz identidad de tamaño N.\n",
    "- ``np.arange(inicio, fin, paso)``: Crea un array con valores desde inicio hasta fin con un paso específico.\n",
    "- ``np.linspace(inicio, fin, num)``: Crea un array de num elementos equidistantes entre inicio y fin.\n",
    "\n",
    " Atributos de Arrays\n",
    "\n",
    "- ``array.shape``: Devuelve una tupla con las dimensiones del array.\n",
    "- ``array.size``: Devuelve el número total de elementos en el array.\n",
    "- ``array.ndim``: Devuelve el número de dimensiones del array.\n",
    "- ``array.dtype``: Devuelve el tipo de dato de los elementos del array.\n",
    "\n",
    " Operaciones Básicas\n",
    "\n",
    "- ``array + array``: Suma de arrays.\n",
    "- ``array - array``: Resta de arrays.\n",
    "- ``array * array``: Multiplicación elemento a elemento.\n",
    "- ``array / array``: División elemento a elemento.\n",
    "- ``np.dot(array1, array2)``: Producto matricial.\n",
    "- ``array @ array``: Producto matricial (operador @).\n",
    "\n",
    " Funciones Matemáticas\n",
    "\n",
    "- ``np.sum(array)``: Suma de todos los elementos del array.\n",
    "- ``np.mean(array)``: Media de los elementos del array.\n",
    "- ``np.std(array)``: Desviación estándar de los elementos del array.\n",
    "- ``np.min(array)``: Valor mínimo del array.\n",
    "- ``np.max(array)``: Valor máximo del array.\n",
    "- ``np.sqrt(array)``: Raíz cuadrada de cada elemento del array.\n",
    "- ``np.exp(array)``: Exponencial de cada elemento del array.\n",
    "- ``np.log(array)``: Logaritmo natural de cada elemento del array.\n",
    "\n",
    " Funciones de Indexación y Segmentación\n",
    "\n",
    "- ``array[index]``: Acceso a un elemento específico.\n",
    "- ``array[start:stop:step]``: Segmentación de arrays.\n",
    "- ``np.diagonal(array)``: Devuelve los elementos de la diagonal de una matriz.\n",
    "- ``np.transpose(array)``: Transpone la matriz.\n",
    "- ``array.T``: Transpone la matriz (método corto).\n",
    "\n",
    " Funciones de Álgebra Lineal\n",
    "\n",
    "- ``np.linalg.inv(array)``: Inversa de una matriz.\n",
    "- ``np.linalg.det(array)``: Determinante de una matriz.\n",
    "- ``np.linalg.eig(array)``: Autovalores y autovectores de una matriz cuadrada.\n",
    "- ``np.linalg.solve(A, b)``: Resuelve el sistema de ecuaciones lineales Ax = b.\n"
   ]
  },
  {
   "cell_type": "markdown",
   "metadata": {},
   "source": [
    "Detalles:\n",
    "- Mientras mas cerca este el factor de convergencia de 0 mas rapido converge\n",
    "\n",
    "Condiciones:\n",
    "- ser matriz cuadrada\n",
    "- ningun elemento de la diagonal puede ser 0\n",
    "\n",
    "Premisas (si cumple es convergente):\n",
    "- Tener diagonal predominante es la condicion necesaria para poder aplicar los metodos, en caso de no tener se deba hacer cambios entre filas\n",
    "- El factor de convergencia debe ser menor que 1"
   ]
  },
  {
   "cell_type": "markdown",
   "metadata": {},
   "source": [
    "Importar Libreria y declarar matrices"
   ]
  },
  {
   "cell_type": "code",
   "execution_count": 13,
   "metadata": {},
   "outputs": [
    {
     "name": "stdout",
     "output_type": "stream",
     "text": [
      "Matriz A:\n",
      "[[ 8.  3.  1.]\n",
      " [ 2.  7. -1.]\n",
      " [-6.  0.  8.]]\n",
      "\n",
      "Matriz B:\n",
      "[13.  6.  2.]\n"
     ]
    }
   ],
   "source": [
    "import numpy as np \n",
    "\n",
    "A = np.array([ [8.0, 3.0, 1.0], [2.0, 7.0, -1.0], [-6.0, 0.0, 8.0]])\n",
    "B = np.array([13.0, 6.0, 2.0])\n",
    "\n",
    "M = A.copy()\n",
    "C = B.copy()\n",
    "cant_filas = A.shape[0]\n",
    "Apositiva = np.abs(A)\n",
    "\n",
    "\n",
    "print(\"Matriz A:\")\n",
    "print(A)\n",
    "print(\"\")\n",
    "print(\"Matriz B:\")\n",
    "print(B)\n"
   ]
  },
  {
   "cell_type": "markdown",
   "metadata": {},
   "source": [
    "### diagoonal predominante"
   ]
  },
  {
   "cell_type": "code",
   "execution_count": 14,
   "metadata": {},
   "outputs": [
    {
     "name": "stdout",
     "output_type": "stream",
     "text": [
      "La matriz si tiene diagonal Predominante\n"
     ]
    }
   ],
   "source": [
    "i = 0\n",
    "buleano = True\n",
    "\n",
    "while i < cant_filas and buleano:\n",
    "    fila = Apositiva[i]\n",
    "    diagonal = Apositiva[i][i]\n",
    "    if diagonal <= (np.sum(fila) - diagonal):\n",
    "        print(\"La matriz no tiene diagonal Predominante\")\n",
    "        buleano = False\n",
    "    i += 1\n",
    "    \n",
    "if buleano:\n",
    "    print(\"La matriz si tiene diagonal Predominante\")"
   ]
  },
  {
   "cell_type": "markdown",
   "metadata": {},
   "source": [
    "### Hallar la matriz M"
   ]
  },
  {
   "cell_type": "code",
   "execution_count": 15,
   "metadata": {},
   "outputs": [
    {
     "name": "stdout",
     "output_type": "stream",
     "text": [
      "Matriz M:\n",
      "[[-0.         -0.375      -0.125     ]\n",
      " [-0.28571429 -0.          0.14285714]\n",
      " [ 0.75       -0.         -0.        ]]\n",
      "\n",
      "\n",
      "Matriz C\n",
      "[1.625      0.85714286 0.25      ]\n"
     ]
    }
   ],
   "source": [
    "i = 0\n",
    "\n",
    "print(f\"Matriz M:\")\n",
    "while i<cant_filas:\n",
    "    diagonal = A[i][i]\n",
    "    A[i][i] = 0\n",
    "    fila = A[i]\n",
    "    fila = fila / diagonal * -1\n",
    "    M[i] = fila\n",
    "    \n",
    "    C[i] = B[i] / diagonal\n",
    "    \n",
    "    i += 1\n",
    " \n",
    "print(M)   \n",
    "print(f\"\")\n",
    "print(f\"\")\n",
    "print(f\"Matriz C\")\n",
    "print(f\"{C}\")\n",
    "\n",
    "Mpositiva = np.abs(M)\n"
   ]
  },
  {
   "cell_type": "markdown",
   "metadata": {},
   "source": [
    "### Calcular factor de convergencia"
   ]
  },
  {
   "cell_type": "code",
   "execution_count": 16,
   "metadata": {},
   "outputs": [
    {
     "name": "stdout",
     "output_type": "stream",
     "text": [
      "Factor de convergencia:\n",
      "De jacobi con A: 0.75\n",
      "De jacobi con M: 0.75\n",
      "De Seigel con M: 0.5\n"
     ]
    }
   ],
   "source": [
    "i = 0\n",
    "mayor = -1\n",
    "factorConvergencia = 0.0\n",
    "\n",
    "while i < cant_filas:\n",
    "    fila = Apositiva[i]\n",
    "    diagonal = Apositiva[i][i]\n",
    "        \n",
    "    factorConvergencia = (np.sum(fila) - diagonal) / diagonal\n",
    "    if factorConvergencia > mayor:\n",
    "        mayor = factorConvergencia\n",
    "    i += 1\n",
    "\n",
    "factor_conA_deJacobi = mayor\n",
    "print(\"Factor de convergencia:\")\n",
    "print(f\"De jacobi con A: {factor_conA_deJacobi}\")\n",
    "\n",
    "\n",
    "i = 0\n",
    "mayor = -1\n",
    "factorConvergencia = 0.0\n",
    "\n",
    "while i < cant_filas:\n",
    "    fila = Mpositiva[i]\n",
    "    factorConvergencia = np.sum(fila) \n",
    "    \n",
    "    if factorConvergencia > mayor:\n",
    "        mayor = factorConvergencia\n",
    "    i += 1\n",
    "    \n",
    "factor_conM_deJacobi = mayor   \n",
    "print(f\"De jacobi con M: {factor_conM_deJacobi}\")\n",
    "\n",
    "\n",
    "\n",
    "i = 0\n",
    "j = 0\n",
    "\n",
    "Q = 0.0\n",
    "P = 0.0\n",
    "mayor = -1\n",
    "esPiso = True\n",
    "factorConvergencia = 0.0\n",
    "\n",
    "while i < cant_filas:  \n",
    "    while j < cant_filas:\n",
    "        if(j == i):\n",
    "            esPiso = False\n",
    "        if(esPiso):\n",
    "            P += Mpositiva[i][j]\n",
    "        else:\n",
    "            Q += Mpositiva[i][j]\n",
    "        j += 1\n",
    "    \n",
    "    factorConvergencia = Q/(1-P)\n",
    "    \n",
    "    if factorConvergencia > mayor:\n",
    "        mayor = factorConvergencia\n",
    "    \n",
    "    j = 0\n",
    "    i += 1\n",
    "    P = 0.0\n",
    "    Q = 0.0\n",
    "    esPiso = True\n",
    "            \n",
    "         \n",
    "factor_conM_deSeigel = mayor\n",
    "print(f\"De Seigel con M: {factor_conM_deSeigel}\")"
   ]
  },
  {
   "cell_type": "code",
   "execution_count": 20,
   "metadata": {},
   "outputs": [
    {
     "name": "stdout",
     "output_type": "stream",
     "text": [
      "\n",
      "3.0\n",
      "0  [0 0 0]\n",
      "1  [1.625      0.85714286 0.25      ]            Error: 4.8750000000\n",
      "2  [1.27232143 0.42857143 1.46875   ]            Error: 3.6562500000\n",
      "3  [1.28069196 0.70344388 1.20424107]            Error: 0.8246173469\n",
      "4  [1.21067841 0.66326531 1.21051897]            Error: 0.2100406569\n",
      "5  [1.22496064 0.68416602 1.15800881]            Error: 0.1575304927\n",
      "6  [1.22368664 0.67258393 1.16872048]            Error: 0.0347462646\n",
      "7  [1.22669097 0.67447817 1.16776498]            Error: 0.0090129730\n",
      "8  [1.22610006 0.67348329 1.17001822]            Error: 0.0067597297\n",
      "9  [1.22619149 0.67397401 1.16957505]            Error: 0.0014721630\n",
      "10  [1.22606286 0.67388458 1.16964362]            Error: 0.0003858700\n",
      "11  [1.22608783 0.67393113 1.16954715]            Error: 0.0002894025\n",
      "12  [1.22608243 0.67391021 1.16956587]            Error: 0.0000627427\n",
      "13  [1.22608794 0.67391443 1.16956183]            Error: 0.0000165068\n",
      "14  [1.22608686 0.67391228 1.16956595]            Error: 0.0000123801\n",
      "15  [1.22608715 0.67391318 1.16956515]            Error: 0.0000026903\n",
      "16  [1.22608692 0.67391298 1.16956536]            Error: 0.0000007064\n"
     ]
    }
   ],
   "source": [
    "#Requerimientos\n",
    "iteraciones = 17\n",
    "tolerancia = 0.0000005\n",
    "redondeado = True\n",
    "\n",
    "Xo = np.array([0, 0, 0])\n",
    "X1 = np.array([0, 0, 0])\n",
    "\n",
    "cosita = factor_conA_deJacobi / (1 - factor_conA_deJacobi)\n",
    "\n",
    "print(\"\")\n",
    "print(cosita)\n",
    "\n",
    "#inicializaciones\n",
    "i = 0\n",
    "error = 100.0\n",
    "\n",
    "while i < iteraciones and error > tolerancia:\n",
    "\n",
    "    if i == 0:\n",
    "        error = 0\n",
    "        print(f\"{i}  {Xo}\")\n",
    "    else:\n",
    "        if not redondeado:\n",
    "            print(f\"{i}  {X1}            Error: {error}\")\n",
    "        else:\n",
    "            print(f\"{i}  {X1}            Error: \" + \"{:.10f}\".format(error))\n",
    "        \n",
    "\n",
    "\n",
    "    X1 = (M @ Xo) + C\n",
    "\n",
    "    i+=1\n",
    "    X1Max = np.max(abs(np.abs(X1) - np.abs(Xo)))\n",
    "    error = X1Max * cosita\n",
    "    Xo = X1"
   ]
  },
  {
   "cell_type": "code",
   "execution_count": 18,
   "metadata": {},
   "outputs": [
    {
     "name": "stdout",
     "output_type": "stream",
     "text": [
      "0  [ 2.5      5.83333 -2.95238]\n",
      "1  [-0.19345125  0.49064607  0.10491156]            Error: 5.342683928571429\n",
      "2  [1.42789378 0.46416057 1.32092033]            Error: 1.2344425279017857\n",
      "3  [1.28582474 0.67846726 1.21436856]            Error: 0.2143066913393426\n",
      "4  [1.21877871 0.68240159 1.16408403]            Error: 0.06704603729370384\n",
      "5  [1.2235889  0.67384375 1.16769167]            Error: 0.00855784480715649\n",
      "6  [1.22634714 0.67357106 1.16976035]            Error: 0.002758236223942223\n",
      "7  [1.22619081 0.67391125 1.16964311]            Error: 0.0003401898848195417\n"
     ]
    }
   ],
   "source": [
    "#Requerimientos\n",
    "iteraciones = 8\n",
    "tolerancia = 0.00005\n",
    "redondeado = False\n",
    "\n",
    "Xo = np.array([2.5, 5.83333, -2.95238])\n",
    "X1 = np.array([2.5, 5.83333, -2.95238])\n",
    "\n",
    "cosita = factor_conM_deSeigel / (1 - factor_conM_deSeigel)\n",
    "\n",
    "#inicializaciones\n",
    "i = 0\n",
    "error = 100.0\n",
    "j = 0\n",
    "\n",
    "while i < iteraciones and error > tolerancia:\n",
    "    \n",
    "    if i == 0:\n",
    "        error = 0\n",
    "        print(f\"{i}  {Xo}\")\n",
    "    else:\n",
    "        if not redondeado:\n",
    "            print(f\"{i}  {X1}            Error: {error}\")\n",
    "        else:\n",
    "            print(f\"{i}  {X1}            Error: \" + \"{:.10f}\".format(error))\n",
    "    \n",
    "    while j < cant_filas:\n",
    "        fila = M[j]\n",
    "        X1[j] = float(fila @ X1) + C[j]\n",
    "        j += 1\n",
    "        \n",
    "    \n",
    "    i+=1\n",
    "    X1Max = np.max(abs(np.abs(X1) - np.abs(Xo)))\n",
    "    \n",
    "    #if factor_convergencia <= 0.5:\n",
    "    #    error = X1Max    \n",
    "    #else:\n",
    "    \n",
    "    error = X1Max * cosita\n",
    "    \n",
    "    j = 0\n",
    "    while j < cant_filas:\n",
    "        Xo[j] = X1[j]\n",
    "        j+=1\n",
    "    j = 0"
   ]
  }
 ],
 "metadata": {
  "kernelspec": {
   "display_name": "Python 3",
   "language": "python",
   "name": "python3"
  },
  "language_info": {
   "codemirror_mode": {
    "name": "ipython",
    "version": 3
   },
   "file_extension": ".py",
   "mimetype": "text/x-python",
   "name": "python",
   "nbconvert_exporter": "python",
   "pygments_lexer": "ipython3",
   "version": "3.12.3"
  }
 },
 "nbformat": 4,
 "nbformat_minor": 2
}

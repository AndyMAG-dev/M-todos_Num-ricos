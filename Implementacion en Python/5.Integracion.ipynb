{
 "cells": [
  {
   "cell_type": "markdown",
   "metadata": {},
   "source": [
    "### Resumito rapido pa no leer todo\n",
    "- Aqui tienes los metodos pa integrar, TRAPECIOS y SIMPSON\n",
    "- en el primer fragmento de codigo escribes lo unico que necesitas:\n",
    "    - a, b (intervalo) , n , h , La funcion en SYMPY y redondear si quieres\n",
    "    \n",
    "- TODO lo demas se calcula solo, cada metodo y sus errores"
   ]
  },
  {
   "cell_type": "markdown",
   "metadata": {},
   "source": [
    "## Metodo de los TRAPECIOS\n",
    "\n",
    "\n",
    "#### Cosas que te dan:\n",
    "- ∫ de 1 a 2 de e^x^2   ->  Integral de A a B de una funcion  \n",
    "- N = 10                ->  Cantidad de sub intervalos (o cantidad de puntos - 1)\n",
    "- h = 0,1               ->  El paso, se puede calcular como h = (b-a)/N\n",
    "\n",
    "#### Procedimiento:\n",
    "\n",
    "- Te paras en el punto A y usando el paso vas creando sub intervalos hasta llegar a B, obteniendo varios valores de X\n",
    "- Esos valores de X los vas evaluando en la funcion que tienes, obteniendo varios valores\n",
    "Ejemplo \n",
    "\n",
    "X|1|1.1|1.2|1.3|1.4|1.5|1.6|1.7|1.8|1.9|2\n",
    "-|-|---|---|---|---|---|---|---|---|---|-\n",
    "y|y1|y2|y3|y4|y5|y6|y7|y8|y9|y10\n"
   ]
  },
  {
   "cell_type": "markdown",
   "metadata": {},
   "source": [
    "\n",
    "#### Formula final\n",
    "\n",
    "Cuando tengas esa tabla calculas la integral asi:\n",
    "\n",
    "I = h * ((∑Yexternas) / 2  +  ∑Yinternas)"
   ]
  },
  {
   "cell_type": "code",
   "execution_count": 8,
   "metadata": {},
   "outputs": [],
   "source": [
    "from sympy import *\n",
    "import math\n",
    "\n",
    "# declaracion de las variables\n",
    "n = 10  \n",
    "a = 0             ####################################### modificar aqui datos\n",
    "b = math.pi\n",
    "h = (b-a)/n\n",
    "\n",
    "#variables necesarias\n",
    "\n",
    "Suma = 0\n",
    "i = 0\n",
    "redondeado = True           ######################### solo modificas redondeado\n",
    "Equis = []\n",
    "\n",
    "# Declaracion de la funcion y las derivadas\n",
    "\n",
    "x = symbols('x')\n",
    "\n",
    "funcion = sin(x)    ################################################# modificar aqui la funcion\n",
    "\n",
    "\n",
    "df = diff(funcion)                       \n",
    "df2 = diff(df)\n",
    "df3 = diff(df2)\n",
    "df4 = diff(df3)\n",
    "\n",
    "f = lambdify(x,funcion)\n",
    "derivada1 = lambdify(x,df)\n",
    "derivada2 = lambdify(x,df2)\n",
    "derivada3 = lambdify(x,df3)\n",
    "derivada4 = lambdify(x,df4)\n",
    "\n"
   ]
  },
  {
   "cell_type": "code",
   "execution_count": 9,
   "metadata": {},
   "outputs": [
    {
     "name": "stdout",
     "output_type": "stream",
     "text": [
      "i                   X                   Y\n",
      "0              0.00000000          0.00000000\n",
      "1              0.31415927          0.30901699\n",
      "2              0.62831853          0.58778525\n",
      "3              0.94247780          0.80901699\n",
      "4              1.25663706          0.95105652\n",
      "5              1.57079633          1.00000000\n",
      "6              1.88495559          0.95105652\n",
      "7              2.19911486          0.80901699\n",
      "8              2.51327412          0.58778525\n",
      "9              2.82743339          0.30901699\n",
      "10             3.14159265          0.00000000\n",
      "I = h * ((∑Yexternas) / 2  +  ∑Yinternas)\n",
      "I = 1.9835235375094546\n"
     ]
    }
   ],
   "source": [
    "i = 0\n",
    "X = a\n",
    "Y = f(X)\n",
    "Suma = 0\n",
    "Equis.append(X)\n",
    "\n",
    "print(\"i\".ljust(20) + \"X\".ljust(20) + \"Y\" )\n",
    "\n",
    "\n",
    "    \n",
    "while i <= n:\n",
    "    \n",
    "    if redondeado:\n",
    "        print(str(i).ljust(15) + \"{:.8f}\".format(X)  + \" \".ljust(10) + ( \"{:.8f}\".format(Y)) )\n",
    "    else:\n",
    "        print(str(i).ljust(20) + str(X).ljust(20) + str(Y).ljust(20) )\n",
    "    \n",
    "    \n",
    "    if(i == 0 or i == n):\n",
    "        Suma += Y/2\n",
    "    else:\n",
    "        Suma += Y\n",
    "        \n",
    "    \n",
    "    X += h\n",
    "    Y = f(X)\n",
    "    i+=1\n",
    "    Equis.append(X)\n",
    "    \n",
    "        \n",
    "print(\"I = h * ((∑Yexternas) / 2  +  ∑Yinternas)\")\n",
    "print(f\"I = {Suma * h}\")\n",
    "    "
   ]
  },
  {
   "cell_type": "markdown",
   "metadata": {},
   "source": [
    "### ERROR por truncamiento:\n",
    "\n",
    "- Formula: R = - (b-a)/12 * h^2 * f''(c)\n",
    "\n",
    "Siendo:\n",
    "- A y B los limites de la integral\n",
    "- h el paso (no se si es al cuadrado o al cubo)\n",
    "- f'' segunda derivada\n",
    "- C es el valor donde la derivada se hace MAXIMA, sea pabajo o parriba, sabra dios que significa eso  HAY QUE GRAFICAR"
   ]
  },
  {
   "cell_type": "code",
   "execution_count": 10,
   "metadata": {},
   "outputs": [
    {
     "name": "stdout",
     "output_type": "stream",
     "text": [
      "C = 1.5707963267948966\n",
      "R = - (b-a)/12 * h^2 * f''(c)\n",
      "R = - (3.141592653589793-0)/12 * 0.3141592653589793^2 * f''(1.5707963267948966)\n",
      "R = - (0.2617993877991494 * 0.09869604401089357 * -1.0\n",
      "R = 0.025838563900249845\n"
     ]
    }
   ],
   "source": [
    "def mayorX():\n",
    "    i = 0\n",
    "    mayor = -99999999999\n",
    "    pos = -1\n",
    "    while i < len(Equis):\n",
    "        evaluacion = abs(derivada2(Equis[i]))   ###poner aqui la derivada que sea necesaroa\n",
    "        if mayor < evaluacion:\n",
    "            mayor = evaluacion\n",
    "            pos = i\n",
    "        i+=1\n",
    "    return Equis[pos]\n",
    "\n",
    "c = mayorX()\n",
    "\n",
    "print(f\"C = {c}\")\n",
    "\n",
    "print(f\"R = - (b-a)/12 * h^2 * f''(c)\")\n",
    "print(f\"R = - ({b}-{a})/12 * {h}^2 * f''({c})\")\n",
    "print(f\"R = - ({(b-a)/12} * {h**2} * {derivada2(c)}\")\n",
    "print(f\"R = {-(b-a)/12 * h**2 * derivada2(c)}\")\n"
   ]
  },
  {
   "cell_type": "markdown",
   "metadata": {},
   "source": [
    "### ERROR (Asintota del truncamiento):\n",
    "\n",
    "- Formula: R ≈ - (f'(b) - f'(a)) / 12 * h^2 \n",
    "\n",
    "Siendo:\n",
    "- A y B los limites de la integral\n",
    "- h el paso (no se si es al cuadrado o al cubo)\n",
    "- f' primera derivada"
   ]
  },
  {
   "cell_type": "code",
   "execution_count": 11,
   "metadata": {},
   "outputs": [
    {
     "name": "stdout",
     "output_type": "stream",
     "text": [
      "R ≈ - (f'(b) - f'(a)) / 12 * h^2 \n",
      "R ≈ - (f'(3.141592653589793]) - f'(0)) / 12 * 0.3141592653589793^2 \n",
      "R ≈ - (-1.0 - 1.0) / 12 * 0.09869604401089357 \n",
      "R ≈ 0.016449340668482262 \n"
     ]
    }
   ],
   "source": [
    "print(f\"R ≈ - (f'(b) - f'(a)) / 12 * h^2 \")\n",
    "print(f\"R ≈ - (f'({b}]) - f'({a})) / 12 * {h}^2 \")\n",
    "print(f\"R ≈ - ({derivada1(b)} - {derivada1(a)}) / {12} * {h**2} \")\n",
    "print(f\"R ≈ {- (derivada1(b) - derivada1(a)) / 12 * h**2} \")"
   ]
  },
  {
   "cell_type": "markdown",
   "metadata": {},
   "source": [
    "### Error de Calculo y Recalculo (Error por doble calculo)\n",
    "\n",
    "El error por doble calculo siempre se duplica h, pero si necesitas un error inferior a la tolerancia tienes que repetir el proceso con h/2\n",
    "\n",
    "E ≈ (Ih - I2h) / 2^p - 1\n",
    "\n",
    "Siendo:\n",
    "\n",
    "- P = 2\n",
    "- Ih es la integral calculada normal con h (Paso)\n",
    "- Ih2 es la integral calculada con el paso duplicado 2*h\n",
    "\n",
    "Recordad que tiene que caer en un caso especifico para poderse calcular"
   ]
  },
  {
   "cell_type": "markdown",
   "metadata": {},
   "source": [
    "## Metodo de Simpson\n",
    "\n",
    "#### Condiciones de uso\n",
    "- El metodo solo se puede aplicar si N es par, o Si la cantidad de puntos es Impar\n",
    "- Cantidad optima de N es 8, y de puntos 9\n",
    "\n",
    "#### Cosas que te dan:\n",
    "- ∫ de 1 a 2 de e^x^2   ->  Integral de A a B de una funcion  \n",
    "- N = 10                ->  Cantidad de sub intervalos (cantidad de puntos - 1)\n",
    "- h = 0,1               ->  El paso, se puede calcular como h = (b-a)/N\n",
    "\n",
    "#### Procedimiento:\n",
    "\n",
    "- Te paras en el punto A y usando el paso vas creando sub intervalos hasta llegar a B, obteniendo varios valores de X\n",
    "- Esos valores de X los vas evaluando en la funcion que tienes, obteniendo varios valores\n",
    "Ejemplo\n",
    "\n",
    "X|1|1.1|1.2|1.3|1.4|1.5|1.6|1.7|1.8|1.9|2\n",
    "-|-|---|---|---|---|---|---|---|---|---|-\n",
    "y|y1|y2|y3|y4|y5|y6|y7|y8|y9|y10\n",
    "\n",
    "Luego la tabla quedaria asi\n",
    "\n",
    "Yext|Yimpar|Ypar\n",
    "----|------|----\n",
    "2.71|3.35|-\n",
    "12.93|-|422\n",
    "-|541|-\n",
    "-|-|709\n",
    "-|9.48|-\n",
    "\n",
    "#### Formula final\n",
    "\n",
    "Cuando tengas esa tabla calculas la integral asi:\n",
    "\n",
    "I = h/3 * ((∑Yexternas) + 4*∑Yimpares + 2*∑Ypares)\n",
    "\n",
    "Si no tienes Pares es = 0"
   ]
  },
  {
   "cell_type": "code",
   "execution_count": 12,
   "metadata": {},
   "outputs": [
    {
     "name": "stdout",
     "output_type": "stream",
     "text": [
      "Si puedes solo usa solo la tabla redondeada a 2 valores porque el python se troca con las comas\n",
      "\n",
      "i                   X                   Y              Tipo de punto\n",
      "0              0.00000000          0.00000000          Y extremo\n",
      "1              0.31415927          0.30901699          Y impar\n",
      "2              0.62831853          0.58778525          Y par\n",
      "3              0.94247780          0.80901699          Y impar\n",
      "4              1.25663706          0.95105652          Y par\n",
      "5              1.57079633          1.00000000          Y impar\n",
      "6              1.88495559          0.95105652          Y par\n",
      "7              2.19911486          0.80901699          Y impar\n",
      "8              2.51327412          0.58778525          Y par\n",
      "9              2.82743339          0.30901699          Y impar\n",
      "10             3.14159265          0.00000000          Y extremo\n",
      "\n",
      "I = h/3 * (∑Yext + 4∑Yimp + 2∑Ypar)\n",
      "I = 0.3141592653589793/3 * (∑1.2246467991473532e-16 + 4∑3.23606797749979 + 2∑3.0776835371752536)\n",
      "I = 2.0001095173150043\n"
     ]
    }
   ],
   "source": [
    "i = 0\n",
    "X = a\n",
    "Y = f(X)\n",
    "ext = 0\n",
    "imp = 0\n",
    "par = 0\n",
    "\n",
    "Equis.append(X)\n",
    "\n",
    "print(\"Si puedes solo usa solo la tabla redondeada a 2 valores porque el python se troca con las comas\")\n",
    "print()\n",
    "\n",
    "print(\"i\".ljust(20) + \"X\".ljust(20) + \"Y\".ljust(15) + \"Tipo de punto\" )\n",
    "\n",
    "\n",
    "    \n",
    "while i <= n:\n",
    "    \n",
    "    if(i == 0 or i == n):\n",
    "        ext += Y\n",
    "        if redondeado:\n",
    "            print(str(i).ljust(15) + \"{:.8f}\".format(X)  + \" \".ljust(10) + ( \"{:.8f}\".format(Y)) + \" \".ljust(10) + \"Y extremo\" )\n",
    "        else:\n",
    "            print(str(i).ljust(20) + str(X).ljust(20) + str(Y).ljust(20) + \"Y extremo\".ljust(20) )\n",
    "        \n",
    "    elif(i % 2 != 0):\n",
    "        imp += Y\n",
    "        if redondeado:\n",
    "            print(str(i).ljust(15) + \"{:.8f}\".format(X)  + \" \".ljust(10) + ( \"{:.8f}\".format(Y)) + \" \".ljust(10) + \"Y impar\" )\n",
    "        else:\n",
    "            print(str(i).ljust(20) + str(X).ljust(20) + str(Y).ljust(20) + \"Y impar\".ljust(20) )\n",
    "    \n",
    "    else:\n",
    "        par += Y\n",
    "        if redondeado:\n",
    "            print(str(i).ljust(15) + \"{:.8f}\".format(X)  + \" \".ljust(10) + ( \"{:.8f}\".format(Y)) + \" \".ljust(10) + \"Y par\" )\n",
    "        else:\n",
    "            print(str(i).ljust(20) + str(X).ljust(20) + str(Y).ljust(20) + \"Y par\".ljust(20) )   \n",
    "        \n",
    "    \n",
    "    X += h\n",
    "    Y = f(X)\n",
    "    i+=1\n",
    "    Equis.append(X)\n",
    "    \n",
    "\n",
    "print()        \n",
    "print(\"I = h/3 * (∑Yext + 4∑Yimp + 2∑Ypar)\")\n",
    "print(f\"I = {h}/3 * (∑{ext} + 4∑{imp} + 2∑{par})\")\n",
    "print(f\"I = {h/3 * (ext + 4*imp + 2*par)}\")"
   ]
  },
  {
   "cell_type": "markdown",
   "metadata": {},
   "source": [
    "### ERROR por truncamiento:\n",
    "\n",
    "- Formula: R = - (b-a)/180 * h^4 * f''''(c)\n",
    "\n",
    "Siendo:\n",
    "- A y B los limites de la integral\n",
    "- h el paso (no se si es al cuadrado o al cubo)\n",
    "- f'''' cuarta derivada\n",
    "- C es el valor donde la derivada se hace MAXIMA, sea pabajo o parriba, sabra dios que significa eso  HAY QUE GRAFICAR"
   ]
  },
  {
   "cell_type": "code",
   "execution_count": 13,
   "metadata": {},
   "outputs": [
    {
     "name": "stdout",
     "output_type": "stream",
     "text": [
      "C = 1.5707963267948966\n",
      "R = - (b-a)/180 * h^4 * f''''(c)\n",
      "R = - (3.141592653589793-0)/180 * 0.3141592653589793^4 * f''''(1.5707963267948966)\n",
      "R = - (0.017453292519943295 * 0.009740909103400242 * 1.0\n",
      "R = -0.000170010935991823\n"
     ]
    }
   ],
   "source": [
    "c = mayorX()\n",
    "\n",
    "print(f\"C = {c}\")\n",
    "\n",
    "print(f\"R = - (b-a)/180 * h^4 * f''''(c)\")\n",
    "print(f\"R = - ({b}-{a})/180 * {h}^4 * f''''({c})\")\n",
    "print(f\"R = - ({(b-a)/180} * {h**4} * {derivada4(c)}\")\n",
    "print(f\"R = {-(b-a)/180 * h**4 * derivada4(c)}\")"
   ]
  },
  {
   "cell_type": "markdown",
   "metadata": {},
   "source": [
    "### ERROR (Asintota del truncamiento):\n",
    "\n",
    "- Formula: R ≈ - (f'''(b) - f'''(a)) / 180 * h^4\n",
    "\n",
    "Siendo:\n",
    "- A y B los limites de la integral\n",
    "- h el paso (no se si es al cuadrado o al cubo)\n",
    "- f''' Tercera derivada"
   ]
  },
  {
   "cell_type": "code",
   "execution_count": 14,
   "metadata": {},
   "outputs": [
    {
     "name": "stdout",
     "output_type": "stream",
     "text": [
      "R ≈ - (f'''(b) - f'''(a)) / 180 * h^4 \n",
      "R ≈ - (f'''(3.141592653589793]) - f'''(0)) / 180 * 0.3141592653589793^4 \n",
      "R ≈ - (1.0 - -1.0) / 180 * 0.009740909103400242 \n",
      "R ≈ -0.00010823232337111381 \n"
     ]
    }
   ],
   "source": [
    "print(f\"R ≈ - (f'''(b) - f'''(a)) / 180 * h^4 \")\n",
    "print(f\"R ≈ - (f'''({b}]) - f'''({a})) / 180 * {h}^4 \")\n",
    "print(f\"R ≈ - ({derivada3(b)} - {derivada3(a)}) / {180} * {h**4} \")\n",
    "print(f\"R ≈ {- (derivada3(b) - derivada3(a)) / 180 * h**4} \")"
   ]
  },
  {
   "cell_type": "markdown",
   "metadata": {},
   "source": [
    "### Error de Calculo y Recalculo (Error por doble calculo)\n",
    "\n",
    "El error por doble calculo siempre se duplica h, pero si necesitas un error inferior a la tolerancia tienes que repetir el proceso con h/2\n",
    "\n",
    "E = (Ih - I2h) / 2^p - 1\n",
    "\n",
    "Siendo:\n",
    "\n",
    "- P = 4\n",
    "- Ih es la integral calculada normal con h (Paso)\n",
    "- Ih2 es la integral calculada con el paso duplicado 2*h\n",
    "\n",
    "Recordad que tiene que caer en un caso especifico para poderse calcular"
   ]
  }
 ],
 "metadata": {
  "kernelspec": {
   "display_name": "Python 3",
   "language": "python",
   "name": "python3"
  },
  "language_info": {
   "codemirror_mode": {
    "name": "ipython",
    "version": 3
   },
   "file_extension": ".py",
   "mimetype": "text/x-python",
   "name": "python",
   "nbconvert_exporter": "python",
   "pygments_lexer": "ipython3",
   "version": "3.12.3"
  }
 },
 "nbformat": 4,
 "nbformat_minor": 2
}

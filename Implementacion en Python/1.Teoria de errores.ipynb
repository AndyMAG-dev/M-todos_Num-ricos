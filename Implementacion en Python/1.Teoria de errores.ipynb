{
 "cells": [
  {
   "cell_type": "markdown",
   "metadata": {},
   "source": [
    "# **El calculo mas basico de errores**\n",
    "Teniendo el valor original y el valor aproximado calcular los errores"
   ]
  },
  {
   "cell_type": "code",
   "execution_count": 1,
   "metadata": {},
   "outputs": [
    {
     "name": "stdout",
     "output_type": "stream",
     "text": [
      "valor = 0.436\n",
      "valor aproximado = 0.4\n",
      "error = 0.036\n",
      "error absoluto o E(x) = 0.036\n",
      "error relativo o e(x) = 0.0825688073394495\n"
     ]
    }
   ],
   "source": [
    "from decimal import Decimal, getcontext\n",
    "\n",
    "getcontext().prec = 15 \n",
    "\n",
    "valor = Decimal(\"0.436\")\n",
    "valorAproximado = Decimal(\"0.4\")\n",
    "\n",
    "error = valor - valorAproximado\n",
    "errorAbsoluto = abs(valor - valorAproximado)\n",
    "errorRelativo = errorAbsoluto / abs(valor)\n",
    "\n",
    "print(f\"valor = {valor}\")\n",
    "print(f\"valor aproximado = {valorAproximado}\")\n",
    "print(f\"error = {error}\")\n",
    "print(f\"error absoluto o E(x) = {errorAbsoluto}\")\n",
    "print(f\"error relativo o e(x) = {errorRelativo}\")"
   ]
  },
  {
   "cell_type": "markdown",
   "metadata": {},
   "source": [
    "Teniendo el valor y el error Absoluto (E(X)) calcular error relativo (e(x))\n"
   ]
  },
  {
   "cell_type": "code",
   "execution_count": 2,
   "metadata": {},
   "outputs": [
    {
     "name": "stdout",
     "output_type": "stream",
     "text": [
      "valor = 2\n",
      "error absoluto o E(x) = 1\n",
      "error relativo o e(x) = 0.5\n",
      "error relativo o e(x) porcentual = 50.0%\n"
     ]
    }
   ],
   "source": [
    "from decimal import Decimal, getcontext\n",
    "\n",
    "getcontext().prec = 15 \n",
    "\n",
    "valor = Decimal(\"2\")\n",
    "errorAbsoluto = Decimal(\"1\")\n",
    "errorRelativo = errorAbsoluto / abs(valor)\n",
    "\n",
    "print(f\"valor = {valor}\")\n",
    "print(f\"error absoluto o E(x) = {errorAbsoluto}\")\n",
    "print(f\"error relativo o e(x) = {errorRelativo}\")\n",
    "print(f\"error relativo o e(x) porcentual = {errorRelativo*100}%\")"
   ]
  },
  {
   "cell_type": "markdown",
   "metadata": {},
   "source": [
    "# **Cifras significativas y esas cositas**\n",
    "esto es boberia lo puedes hacer a mano"
   ]
  },
  {
   "cell_type": "code",
   "execution_count": 3,
   "metadata": {},
   "outputs": [
    {
     "name": "stdout",
     "output_type": "stream",
     "text": [
      "Cantidad de digitos totales: 9\n",
      "Cantidad de digitos no significativos: 4\n",
      "Cantidad de digitos significativos: 5\n",
      "digitos significativos: 48003\n"
     ]
    }
   ],
   "source": [
    "from decimal import Decimal, getcontext\n",
    "\n",
    "digitosDespuesDeLaComa = 8      # Poner aqui la cantidad de digitos despues de la coma que tiene el numero\n",
    "\n",
    "\n",
    "getcontext().prec = digitosDespuesDeLaComa \n",
    "\n",
    "numero = Decimal(0.00048003)        # escribir aqui el numero\n",
    "\n",
    "\n",
    "\n",
    "digitosNoSignificativos = 1\n",
    "digitosTotales = 1\n",
    "\n",
    "if numero >= 1:\n",
    "    print(\"No tiene digitos no significativos\")\n",
    "    print(f\"digitos significativos: {numero}\")\n",
    "else:\n",
    "    while digitosDespuesDeLaComa > 0:\n",
    "        digitosDespuesDeLaComa -= 1\n",
    "        numero *= 10\n",
    "        digitosTotales += 1\n",
    "        if numero < 1:\n",
    "            digitosNoSignificativos += 1\n",
    "    print(f\"Cantidad de digitos totales: {digitosTotales}\")\n",
    "    print(f\"Cantidad de digitos no significativos: {digitosNoSignificativos}\")\n",
    "    print(f\"Cantidad de digitos significativos: {digitosTotales - digitosNoSignificativos}\")\n",
    "    print(f\"digitos significativos: {int(numero)}\")            \n",
    "        "
   ]
  },
  {
   "cell_type": "markdown",
   "metadata": {},
   "source": [
    "# **Cifras exactas y decimales exactas*"
   ]
  },
  {
   "cell_type": "code",
   "execution_count": 23,
   "metadata": {},
   "outputs": [
    {
     "name": "stdout",
     "output_type": "stream",
     "text": [
      "cifras exactas = 5\n",
      "cifras decimales exactas = 4\n",
      "cifras no exactas o dudosas (depende del error) = 2\n"
     ]
    }
   ],
   "source": [
    "from decimal import Decimal, getcontext\n",
    "    \n",
    "\n",
    "getcontext().prec = 6     # Poner aqui la cantidad de digitos despues de la coma que tiene el numero\n",
    " \n",
    "numero = Decimal(0.390785)   #xdxd el numero no hace falta aqui\n",
    "errorAbsoluto = Decimal(0.00005)    #rellena estos datos tu\n",
    "digitosTotales = 7\n",
    "digitosDecimales = 6\n",
    "\n",
    "\n",
    "\n",
    "numero5 = 0.5\n",
    "contador = -1\n",
    "\n",
    "while numero5 >= errorAbsoluto:\n",
    "    numero5 /= 10\n",
    "    contador += 1\n",
    "    \n",
    "\n",
    "print(f\"cifras exactas = {contador + (digitosTotales-digitosDecimales)}\")\n",
    "print(f\"cifras decimales exactas = {contador}\")\n",
    "print(f\"cifras no exactas o dudosas (depende del error) = {digitosDecimales-contador}\")\n",
    "\n",
    "\n",
    "    "
   ]
  },
  {
   "cell_type": "markdown",
   "metadata": {},
   "source": [
    "# **obtener errores teniendo cifras exactas*"
   ]
  },
  {
   "cell_type": "code",
   "execution_count": null,
   "metadata": {},
   "outputs": [],
   "source": [
    "from decimal import Decimal, getcontext\n",
    "    \n",
    "getcontext().prec = 7     # Poner aqui la cantidad de digitos despues de la coma que tiene el numero\n",
    " \n",
    "numeroAprox = Decimal(697.6587)  \n",
    "\n",
    "\n",
    "errorAbsoluto = Decimal(0.0004)    #rellena estos datos tu\n",
    "digitosTotales = 10\n",
    "digitosDecimales = 7 \n",
    "\n",
    "\n",
    "numero5 = 0.5\n",
    "contador = -1\n",
    "\n",
    "while numero5 >= errorAbsoluto:\n",
    "    numero5 /= 10\n",
    "    contador += 1\n",
    "    \n",
    "\n",
    "print(f\"cifras exactas = {contador + (digitosTotales-digitosDecimales)}\")\n",
    "print(f\"cifras decimales exactas = {contador}\")\n",
    "print(f\"cifras no exactas o dudosas (depende del error) = {digitosDecimales-contador}\")"
   ]
  }
 ],
 "metadata": {
  "kernelspec": {
   "display_name": "Python 3",
   "language": "python",
   "name": "python3"
  },
  "language_info": {
   "codemirror_mode": {
    "name": "ipython",
    "version": 3
   },
   "file_extension": ".py",
   "mimetype": "text/x-python",
   "name": "python",
   "nbconvert_exporter": "python",
   "pygments_lexer": "ipython3",
   "version": "3.12.3"
  }
 },
 "nbformat": 4,
 "nbformat_minor": 2
}
